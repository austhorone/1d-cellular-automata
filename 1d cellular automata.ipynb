{
 "cells": [
  {
   "cell_type": "code",
   "execution_count": 1,
   "id": "845c3543-dc08-44a7-8e14-b83fa0dd91eb",
   "metadata": {},
   "outputs": [],
   "source": [
    "import numpy as np"
   ]
  },
  {
   "cell_type": "code",
   "execution_count": 2,
   "id": "5da5635e-8d0d-4fce-bcf8-63648cd1a36e",
   "metadata": {},
   "outputs": [],
   "source": [
    "basics = np.array([[0,0,0],[0,0,1],[0,1,0],[0,1,1],[1,0,0],[1,0,1],[1,1,0],[1,1,1]])"
   ]
  },
  {
   "cell_type": "code",
   "execution_count": 3,
   "id": "4faffff8-f74c-4389-9c87-089dda4f6e7d",
   "metadata": {},
   "outputs": [],
   "source": [
    "rule90 = {\n",
    "    tuple(basics[0]):0,\n",
    "    tuple(basics[1]):1,\n",
    "    tuple(basics[2]):0,\n",
    "    tuple(basics[3]):1,\n",
    "    tuple(basics[4]):1,\n",
    "    tuple(basics[5]):0,\n",
    "    tuple(basics[6]):1,\n",
    "    tuple(basics[7]):0}"
   ]
  },
  {
   "cell_type": "code",
   "execution_count": 4,
   "id": "0bf955ab-6fdf-497a-b6d5-e0d79ebbd5f5",
   "metadata": {},
   "outputs": [],
   "source": [
    "rule30 = {\n",
    "    tuple(basics[0]):0,\n",
    "    tuple(basics[1]):1,\n",
    "    tuple(basics[2]):1,\n",
    "    tuple(basics[3]):1,\n",
    "    tuple(basics[4]):1,\n",
    "    tuple(basics[5]):0,\n",
    "    tuple(basics[6]):0,\n",
    "    tuple(basics[7]):0}"
   ]
  },
  {
   "cell_type": "code",
   "execution_count": 5,
   "id": "638ad7d6-1a1c-4874-82b5-687f85163550",
   "metadata": {},
   "outputs": [],
   "source": [
    "rule158 = {\n",
    "    tuple(basics[0]):0,\n",
    "    tuple(basics[1]):1,\n",
    "    tuple(basics[2]):1,\n",
    "    tuple(basics[3]):1,\n",
    "    tuple(basics[4]):1,\n",
    "    tuple(basics[5]):0,\n",
    "    tuple(basics[6]):0,\n",
    "    tuple(basics[7]):1}"
   ]
  },
  {
   "cell_type": "code",
   "execution_count": 12,
   "id": "0854aa1a-e79c-4a28-9033-8670569b0ad9",
   "metadata": {},
   "outputs": [],
   "source": [
    "def ply(array,rule=rule90,times=3):\n",
    "    print(k)\n",
    "    a = []\n",
    "    for i in np.arange(len(array)):\n",
    "        a.append(np.roll(array,-i)[:3])\n",
    "    for x in np.arange(times):\n",
    "        y = []\n",
    "        for e in a:\n",
    "            e_tuple = tuple(e)\n",
    "            if e_tuple in rule:\n",
    "                y.append(rule[e_tuple])\n",
    "        print(y)\n",
    "        a = []\n",
    "        for e1 in np.arange(len(y)):\n",
    "            a.append(np.roll(y,-e1)[:3])"
   ]
  },
  {
   "cell_type": "code",
   "execution_count": 13,
   "id": "2e6c1280-507d-42a3-8743-55a0528d5b1c",
   "metadata": {},
   "outputs": [
    {
     "data": {
      "text/plain": [
       "array([1, 0, 1, 0, 1])"
      ]
     },
     "execution_count": 13,
     "metadata": {},
     "output_type": "execute_result"
    }
   ],
   "source": [
    "k = np.random.randint(0,2,size=5)\n",
    "k"
   ]
  },
  {
   "cell_type": "code",
   "execution_count": 14,
   "id": "13de710c-0ec2-4164-a121-e210dd8e9a57",
   "metadata": {},
   "outputs": [
    {
     "name": "stdout",
     "output_type": "stream",
     "text": [
      "[1 0 1 0 1]\n",
      "[0, 0, 0, 1, 1]\n",
      "[0, 1, 1, 1, 1]\n",
      "[1, 0, 0, 1, 0]\n"
     ]
    }
   ],
   "source": [
    "ply(k)"
   ]
  },
  {
   "cell_type": "code",
   "execution_count": null,
   "id": "b4ea9696-2512-43d0-9ef4-1fcebdaf25d8",
   "metadata": {},
   "outputs": [],
   "source": []
  }
 ],
 "metadata": {
  "kernelspec": {
   "display_name": "Python 3 (ipykernel)",
   "language": "python",
   "name": "python3"
  },
  "language_info": {
   "codemirror_mode": {
    "name": "ipython",
    "version": 3
   },
   "file_extension": ".py",
   "mimetype": "text/x-python",
   "name": "python",
   "nbconvert_exporter": "python",
   "pygments_lexer": "ipython3",
   "version": "3.12.7"
  }
 },
 "nbformat": 4,
 "nbformat_minor": 5
}
